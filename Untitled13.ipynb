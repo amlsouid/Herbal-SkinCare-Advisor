{
  "nbformat": 4,
  "nbformat_minor": 0,
  "metadata": {
    "colab": {
      "provenance": [],
      "authorship_tag": "ABX9TyPkhrSYxxBTbNfG9sAMYLLS",
      "include_colab_link": true
    },
    "kernelspec": {
      "name": "python3",
      "display_name": "Python 3"
    },
    "language_info": {
      "name": "python"
    }
  },
  "cells": [
    {
      "cell_type": "markdown",
      "metadata": {
        "id": "view-in-github",
        "colab_type": "text"
      },
      "source": [
        "<a href=\"https://colab.research.google.com/github/amlsouid/Herbal-SkinCare-Advisor/blob/main/Untitled13.ipynb\" target=\"_parent\"><img src=\"https://colab.research.google.com/assets/colab-badge.svg\" alt=\"Open In Colab\"/></a>"
      ]
    },
    {
      "cell_type": "code",
      "execution_count": 1,
      "metadata": {
        "colab": {
          "base_uri": "https://localhost:8080/"
        },
        "id": "nS6DA-PxAeGy",
        "outputId": "04d16620-6ccc-4da6-b910-b4c294c99773"
      },
      "outputs": [
        {
          "output_type": "stream",
          "name": "stdout",
          "text": [
            "🌿 Welcome to the Herbal SkinCare Chatbot 🌸\n",
            "What's your name? Amel \n",
            "How old are you? 19\n",
            "What's your skin type? (oily / dry / combination / sensitive): Oily \n",
            "\n",
            "Hi Amel ! Based on your age (19) and skin type (Oily ), here are some herbs for you:\n",
            "🌱 Mint\n",
            "🌱 Chamomile\n",
            "🌱 Aloe Vera\n",
            "\n",
            "💧 Tip: Use these herbs in natural masks twice a week for best results!\n",
            "Thank you for using the Herbal Chatbot 💚\n"
          ]
        }
      ],
      "source": [
        "#herbal_chatbot.py\n",
        "\n",
        "def recommend_herbs ( age ,  skin_type ):\n",
        "    skin_type = skin_type.lower().strip()\n",
        "\n",
        "    إذا كان  نوع البشرة ==  \"دهني\" : إذا كان  العمر <  20 : ارجع  [ \"نعناع\" ،  \"بابونج\" ،  \"صبار\" ] إذا كان  العمر <  35 : ارجع  [ \"إكليل الجبل\" ،  \"الخزامى\" ،  \"صبار\" ] وإلا : ارجع  [ \"شاي أخضر\" ،  \"ورد\" ،  \"صبار\" ]\n",
        "\n",
        "\n",
        "\n",
        "\n",
        "\n",
        "\n",
        "\n",
        "    elif  skin_type ==  \"جاف\" : إذا كان  العمر أقل من  20 : ارجع  [ \"البابونج\" ،  \"زيت جوز الهند\" ،  \"العسل\" ] elif  age <  35 : ارجع  [ \"الخزامى\" ،  \"دقيق الشوفان\" ،  \"زيت الزيتون\" ] وإلا : ارجع  [ \"الصبار\" ،  \"الورد\" ،  \"زيت اللوز\" ]\n",
        "\n",
        "\n",
        "\n",
        "\n",
        "\n",
        "\n",
        "\n",
        "    elif  skin_type ==  \"combination\" : return  [ \"Chamomile\" ,  \"Rose\" ,  \"Mint\" ]\n",
        "\n",
        "\n",
        "    elif  skin_type ==  \"sensitive\" : return  [ \"Chamomile\" ,  \"Lavender\" ,  \"Green Tea\" ]\n",
        "\n",
        "\n",
        "    else : return  [ \"لم أتعرف على نوع بشرتك. جربي الدهنية، الجافة،  المختلطة، أو الحساسة.\" ]\n",
        "\n",
        "\n",
        "\n",
        "print ( \"🌿 مرحبًا بك في دردشة العناية بالبشرة بالأعشاب 🌸\" )\n",
        "name =  input ( \"ما اسمك؟\" )\n",
        "age =  int ( input ( \"كم عمرك؟\" ))\n",
        "skin_type =  input ( \"ما نوع بشرتك؟ (دهنية / جافة / مختلطة  / حساسة): \" )\n",
        "\n",
        "طباعة ( f \"\\nمرحبًا  {name} ! بناءً على عمرك ( {age} ) ونوع بشرتك ( {skin_type} )، إليك بعض الأعشاب المناسبة لك:\" )\n",
        "\n",
        "الأعشاب = recommend_herbs(العمر، نوع البشرة)\n",
        "للعشب في  الأعشاب:  اطبع  ( f \" 🌱  {herb} \" )\n",
        "\n",
        "\n",
        "طباعة ( \"نصيحة: استخدم هذه الأعشاب في أقنعة طبيعية مرتين  في الأسبوع للحصول على أفضل النتائج!\" )\n",
        "طباعة ( \"شكرًا لك على استخدام روبوت الدردشة العشبي 💚\" )"
      ]
    }
  ]
}